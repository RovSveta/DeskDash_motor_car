{
 "cells": [
  {
   "cell_type": "code",
   "execution_count": 1,
   "id": "9aeb842a",
   "metadata": {},
   "outputs": [],
   "source": [
    "import cv2\n",
    "import numpy as np\n",
    "import pandas as pd\n",
    "import os"
   ]
  },
  {
   "cell_type": "code",
   "execution_count": 4,
   "id": "a13b524e",
   "metadata": {},
   "outputs": [
    {
     "name": "stdout",
     "output_type": "stream",
     "text": [
      "True\n"
     ]
    }
   ],
   "source": [
    "\n",
    "print(os.path.exists(\"VID_20250401_122228.mp4\"))"
   ]
  },
  {
   "cell_type": "code",
   "execution_count": 6,
   "id": "c0d8b853",
   "metadata": {},
   "outputs": [],
   "source": [
    "camera = cv2.VideoCapture(\"sample_video.mp4\")"
   ]
  },
  {
   "cell_type": "code",
   "execution_count": null,
   "id": "239834b6",
   "metadata": {},
   "outputs": [
    {
     "name": "stdout",
     "output_type": "stream",
     "text": [
      "Failed to open video.\n",
      "Failed to read frame\n"
     ]
    },
    {
     "ename": "",
     "evalue": "",
     "output_type": "error",
     "traceback": [
      "\u001b[1;31mThe Kernel crashed while executing code in the current cell or a previous cell. \n",
      "\u001b[1;31mPlease review the code in the cell(s) to identify a possible cause of the failure. \n",
      "\u001b[1;31mClick <a href='https://aka.ms/vscodeJupyterKernelCrash'>here</a> for more info. \n",
      "\u001b[1;31mView Jupyter <a href='command:jupyter.viewOutput'>log</a> for further details."
     ]
    }
   ],
   "source": [
    "# Open USB camera:\n",
    "#camera = cv2.VideoCapture(0)\n",
    "camera = cv2.VideoCapture(\"VID_20250401_122228.mp4\")\n",
    "\n",
    "if not camera.isOpened():\n",
    "    print(\"Failed to open video.\")\n",
    "    exit()\n",
    "\n",
    "# Adjusted HSV Ranges for detecting red and blue lane lines\n",
    "# Red\n",
    "red_lower1 = np.array([0, 70, 70])\n",
    "red_upper1 = np.array([10, 255, 255])\n",
    "red_lower2 = np.array([160, 70, 70])\n",
    "red_upper2 = np.array([179, 255, 255])\n",
    "\n",
    "# Blue \n",
    "blue_lower = np.array([85, 40, 40])\n",
    "blue_upper = np.array([135, 255, 255])\n",
    "\n",
    "def compute_center_line_and_distances(mask_red, mask_blue, frame, y_focus_area):\n",
    "    red_x = []\n",
    "    blue_x = []\n",
    "\n",
    "    red_line_edges, _ = cv2.findContours(mask_red, cv2.RETR_EXTERNAL, cv2.CHAIN_APPROX_SIMPLE)\n",
    "    blue_line_edges, _ = cv2.findContours(mask_blue, cv2.RETR_EXTERNAL, cv2.CHAIN_APPROX_SIMPLE)\n",
    "\n",
    "    for edge in red_line_edges:\n",
    "        if cv2.contourArea(edge) > 100:\n",
    "            for point in edge:\n",
    "                x, y = point[0]\n",
    "                if y >= y_focus_area:\n",
    "                    red_x.append(x)\n",
    "\n",
    "    for edge in blue_line_edges:\n",
    "        if cv2.contourArea(edge) > 100:\n",
    "            for point in edge:\n",
    "                x, y = point[0]\n",
    "                if y >= y_focus_area:\n",
    "                    blue_x.append(x)\n",
    "\n",
    "    if red_x and blue_x:\n",
    "        avg_red = int(np.mean(red_x))\n",
    "        avg_blue = int(np.mean(blue_x))\n",
    "        center_x = (avg_red + avg_blue) // 2\n",
    "        cv2.line(frame, (center_x, 0), (center_x, frame.shape[0]), (0, 255, 255), 2)\n",
    "    \n",
    "        dist_left = abs(center_x - avg_red)\n",
    "        dist_right = abs(center_x - avg_blue)\n",
    "\n",
    "        return avg_red, avg_blue, center_x, dist_left, dist_right\n",
    "    return None, None, None, None, None\n",
    "\n",
    "\n",
    "# Function to draw small green dots along red and blue lines: \n",
    "def draw_dots_from_mask(mask, frame, color=(0, 255, 0), y_focus_area = 0):\n",
    "    red_blue_edges, _ = cv2.findContours(mask, cv2.RETR_EXTERNAL, cv2.CHAIN_APPROX_SIMPLE)\n",
    "    for edge in red_blue_edges:\n",
    "        if cv2.contourArea(edge) > 100:  #100 - ignore noise\n",
    "            for point in edge:\n",
    "                x, y = point[0]\n",
    "                if y >= y_focus_area:\n",
    "                    cv2.circle(frame, (x, y), 2, color, -1)\n",
    "\n",
    "\n",
    "def process_frame(frame):\n",
    "    # 1. Convert to HSV:\n",
    "    hsv = cv2.cvtColor(frame, cv2.COLOR_BGR2HSV)\n",
    "\n",
    "    # 2. Create masks:\n",
    "    mask_red = cv2.inRange(hsv, red_lower1, red_upper1) | cv2.inRange(hsv, red_lower2, red_upper2)\n",
    "    mask_blue = cv2.inRange(hsv, blue_lower, blue_upper)\n",
    "\n",
    "    # 3. Define the Y-coordinate focus area (about 70% from the bottom up will be a focus area)\n",
    "    height = frame.shape[0]\n",
    "    y_focus_area = int(height * 0.30)\n",
    "\n",
    "    # Draw green dots on detected red/blue contours\n",
    "    draw_dots_from_mask(mask_red, frame, (0, 255, 0), y_focus_area)\n",
    "    draw_dots_from_mask(mask_blue, frame, (0, 255, 0), y_focus_area)\n",
    "\n",
    "    # 4. Line detection:\n",
    "    # Draw the center line (the line your car will follow) based on the detected points\n",
    "    # and compute distance:\n",
    "    red_x, blue_x, center_x, dist_left, dist_right = compute_center_line_and_distances(\n",
    "    mask_red, mask_blue, frame, y_focus_area)\n",
    "\n",
    "    # 5. Decide based on center position:\n",
    "    if center_x is not None:\n",
    "        height, width = frame.shape[:2]\n",
    "        centre_position = center_x - (width // 2)\n",
    "        if abs(centre_position) < 20:\n",
    "            return 'F'\n",
    "        elif centre_position < -20:\n",
    "            return 'L'\n",
    "        else:\n",
    "            return 'R'\n",
    "    else:\n",
    "        return 'B'\n",
    "\n",
    "# MAIN LOOP IS HERE -->>>\n",
    "while True:\n",
    "    ret, frame = camera.read()\n",
    "    if not ret or frame is None:\n",
    "        print(\"Failed to read frame\")\n",
    "        break\n",
    "\n",
    "    # Process frame and get command\n",
    "    command = process_frame(frame)\n",
    "    print(\"Command:\", command)\n",
    "\n",
    "    # Show processed result\n",
    "    cv2.imshow(\"Line Detection\", frame)\n",
    "\n",
    "    # Exit on 'q'\n",
    "    if cv2.waitKey(1) & 0xFF == ord('q'):\n",
    "        break\n",
    "\n",
    "\n",
    "\n",
    "\n",
    "\n",
    "camera.release()\n",
    "cv2.destroyAllWindows()"
   ]
  }
 ],
 "metadata": {
  "kernelspec": {
   "display_name": "Python 3",
   "language": "python",
   "name": "python3"
  },
  "language_info": {
   "codemirror_mode": {
    "name": "ipython",
    "version": 3
   },
   "file_extension": ".py",
   "mimetype": "text/x-python",
   "name": "python",
   "nbconvert_exporter": "python",
   "pygments_lexer": "ipython3",
   "version": "3.10.11"
  }
 },
 "nbformat": 4,
 "nbformat_minor": 5
}

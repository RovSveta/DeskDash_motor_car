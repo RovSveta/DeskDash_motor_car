{
 "cells": [
  {
   "cell_type": "code",
   "execution_count": 1,
   "id": "822aa95b",
   "metadata": {},
   "outputs": [],
   "source": [
    "import cv2\n",
    "import numpy as np"
   ]
  },
  {
   "cell_type": "code",
   "execution_count": null,
   "id": "6b332f10",
   "metadata": {},
   "outputs": [],
   "source": [
    "# code to get captured video:\n",
    "camera = cv2.VideoCapture(0)\n",
    "\n",
    "if (camera.isOpened()):\n",
    "    print(\"The Camera is successfully opened\")\n",
    "else:\n",
    "    print(\"Could not open the camera\")\n",
    "\n",
    "while True:\n",
    "    \n",
    "    success, frame=camera.read()\n",
    "\n",
    "    if not success:\n",
    "        print(\"Not able to read the frame. End.\")\n",
    "        break\n",
    "\n",
    "    frame2 = cv2.GaussianBlur(frame, (31,31), 0)\n",
    "\n",
    "    combinedImages = np.hstack((frame, frame2))\n",
    "\n",
    "    cv2.imshow(\"Camera video\", frame)\n",
    "\n",
    "    if cv2.waitKey(1) == ord(\"c\"):\n",
    "        break\n",
    "\n",
    "camera.release()\n",
    "\n",
    "cv2.destroyAllWindows()"
   ]
  }
 ],
 "metadata": {
  "kernelspec": {
   "display_name": "Python 3",
   "language": "python",
   "name": "python3"
  },
  "language_info": {
   "codemirror_mode": {
    "name": "ipython",
    "version": 3
   },
   "file_extension": ".py",
   "mimetype": "text/x-python",
   "name": "python",
   "nbconvert_exporter": "python",
   "pygments_lexer": "ipython3",
   "version": "3.10.11"
  }
 },
 "nbformat": 4,
 "nbformat_minor": 5
}
